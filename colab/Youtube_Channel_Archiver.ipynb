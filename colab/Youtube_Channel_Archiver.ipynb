{
  "nbformat": 4,
  "nbformat_minor": 0,
  "metadata": {
    "colab": {
      "name": "Youtube-Channel-Archiver.ipynb",
      "provenance": [],
      "collapsed_sections": []
    },
    "kernelspec": {
      "name": "python3",
      "display_name": "Python 3"
    }
  },
  "cells": [
    {
      "cell_type": "code",
      "metadata": {
        "id": "pdZc1efn8JUv",
        "colab_type": "code",
        "colab": {}
      },
      "source": [
        "!git clone https://github.com/dostarora97/youtube-channel-archiver.git\n",
        "% cd youtube-channel-archiver\n",
        "!chmod +x channel-archive.sh"
      ],
      "execution_count": null,
      "outputs": []
    },
    {
      "cell_type": "code",
      "metadata": {
        "id": "r4J_Vdb388NZ",
        "colab_type": "code",
        "colab": {}
      },
      "source": [
        "import sys\n",
        "\n",
        "channel_urls = []\n",
        "\n",
        "INPUT_PENDING = 0\n",
        "INPUT_COMPLETE = 1\n",
        "INPUT_ERROR = 2\n",
        "\n",
        "INPUT_STATUS = INPUT_PENDING\n",
        "\n",
        "while(INPUT_STATUS == INPUT_PENDING):\n",
        "  print(\"[1] Input Channel URL\")\n",
        "  print(\"[2] Write and Exit\")\n",
        "  print(\"[3] Abort\")\n",
        "\n",
        "  try:\n",
        "    choice = int(input(\">> \"))\n",
        "  except Exception as err:\n",
        "    INPUT_STATUS = INPUT_ERROR\n",
        "  else:\n",
        "    if choice == 1:\n",
        "      url = input(\"Channel URL: \")\n",
        "      channel_urls.append(url)\n",
        "    elif choice == 2:\n",
        "      print(\"Exiting...\")\n",
        "      INPUT_STATUS = INPUT_COMPLETE\n",
        "    else:\n",
        "      INPUT_STATUS = INPUT_ERROR\n",
        "\n",
        "if (INPUT_STATUS == INPUT_COMPLETE):\n",
        "  with open(\"youtube-dl-channels.txt\", \"w\") as file:\n",
        "    for url in channel_urls:\n",
        "      file.write(\"{}\\n\".format(url))\n",
        "else:\n",
        "    print(\"Aborting...\")"
      ],
      "execution_count": null,
      "outputs": []
    },
    {
      "cell_type": "code",
      "metadata": {
        "id": "dCeFnR_H9LjH",
        "colab_type": "code",
        "colab": {}
      },
      "source": [
        "!cat youtube-dl-channels.txt"
      ],
      "execution_count": null,
      "outputs": []
    },
    {
      "cell_type": "code",
      "metadata": {
        "id": "2NR0-P_kbGcA",
        "colab_type": "code",
        "colab": {}
      },
      "source": [
        "!sudo apt update -y\n",
        "\n",
        "!sudo apt install ffmpeg\n",
        "!ffmpeg --version\n",
        "\n",
        "!sudo curl -L https://yt-dl.org/downloads/latest/youtube-dl -o /usr/local/bin/youtube-dl\n",
        "!sudo chmod a+rx /usr/local/bin/youtube-dl\n",
        "!youtube-dl --version"
      ],
      "execution_count": null,
      "outputs": []
    },
    {
      "cell_type": "code",
      "metadata": {
        "id": "ULnjwn1r9Jic",
        "colab_type": "code",
        "colab": {}
      },
      "source": [
        "!./channel-archive.sh"
      ],
      "execution_count": null,
      "outputs": []
    },
    {
      "cell_type": "code",
      "metadata": {
        "id": "OvxYNsfnbKkg",
        "colab_type": "code",
        "colab": {}
      },
      "source": [
        "from google.colab import drive\n",
        "drive.mount('../gdrive')"
      ],
      "execution_count": null,
      "outputs": []
    },
    {
      "cell_type": "code",
      "metadata": {
        "id": "IP-2wO66eKB2",
        "colab_type": "code",
        "colab": {}
      },
      "source": [
        "!mv ./YouTube_Channel_Archive ../gdrive/My\\ Drive"
      ],
      "execution_count": null,
      "outputs": []
    }
  ]
}